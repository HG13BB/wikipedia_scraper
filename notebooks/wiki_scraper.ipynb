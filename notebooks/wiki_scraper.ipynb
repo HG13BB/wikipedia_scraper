{
 "cells": [
  {
   "cell_type": "code",
   "execution_count": 1,
   "metadata": {},
   "outputs": [],
   "source": [
    "import pandas as pd\n",
    "from bs4 import BeautifulSoup\n",
    "import requests"
   ]
  },
  {
   "cell_type": "code",
   "execution_count": 2,
   "metadata": {},
   "outputs": [],
   "source": [
    "wp_filetypes = 'https://en.wikipedia.org/wiki/List_of_file_formats'"
   ]
  },
  {
   "cell_type": "code",
   "execution_count": 3,
   "metadata": {},
   "outputs": [],
   "source": [
    "page = requests.get(wp_filetypes)"
   ]
  },
  {
   "cell_type": "code",
   "execution_count": 4,
   "metadata": {},
   "outputs": [],
   "source": [
    "soup = BeautifulSoup(page.text,'html.parser')"
   ]
  },
  {
   "cell_type": "code",
   "execution_count": 6,
   "metadata": {},
   "outputs": [],
   "source": [
    "children = [child for child in mydivs[0].children]"
   ]
  },
  {
   "cell_type": "code",
   "execution_count": 235,
   "metadata": {},
   "outputs": [],
   "source": [
    "#all of the file type headings appear to carry an h32 or h3 tag\n",
    "headings_1 = [item.text for item in  soup.find_all('h2')]\n",
    "headings_2 = [item.text for item in soup.find_all('h3')]\n",
    "headings_3 = [item.text for item in soup.find_all('h4')]\n",
    "\n",
    "headings = headings_1 + headings_2 + headings_3"
   ]
  },
  {
   "cell_type": "code",
   "execution_count": 237,
   "metadata": {},
   "outputs": [],
   "source": [
    "#strip out irrelevant items with same tag\n",
    "headings_final = [h for h in headings if h.endswith('[edit]') == True]\n",
    "headings_final = [h.replace('[edit]','') for h in headings_final]"
   ]
  },
  {
   "cell_type": "code",
   "execution_count": 269,
   "metadata": {},
   "outputs": [],
   "source": [
    "#find the tag that appears to hold all of our relevant content\n",
    "mydivs = soup.find_all(\"div\", {\"class\": \"mw-parser-output\"})\n",
    "\n",
    "#list of stripped strings in that tag\n",
    "children = [child for child in mydivs[0].stripped_strings]\n"
   ]
  },
  {
   "cell_type": "code",
   "execution_count": 256,
   "metadata": {},
   "outputs": [],
   "source": [
    "#find index of last item before the beginning of data for each file type\n",
    "#children.index('External links')"
   ]
  },
  {
   "cell_type": "code",
   "execution_count": 270,
   "metadata": {},
   "outputs": [],
   "source": [
    "children_content = children[children.index('External links')+1:]"
   ]
  },
  {
   "cell_type": "code",
   "execution_count": 271,
   "metadata": {},
   "outputs": [],
   "source": [
    "def get_header_idx(cl,dl):\n",
    "    #create a dict of \n",
    "    \n",
    "    idxes_st = {}\n",
    "    index_dict = {}\n",
    "    dict_out = {}\n",
    "    \n",
    "    #get the indexes of each header from dict\n",
    "    for item in cl:\n",
    "        #id2 = id1 \n",
    "        if item in dl:\n",
    "            idxes_st[item] = cl.index(item)\n",
    "        else:\n",
    "            pass\n",
    "    \n",
    "    #create list of beginning and ending indexes to zip\n",
    "    begin = list(idxes_st.values())\n",
    "    end = list(idxes_st.values())#.append(len(cl)-1)\n",
    "    end.append(len(cl)-1)\n",
    "    endf = end[1:]\n",
    "    indexes = []\n",
    "    \n",
    "    \n",
    "    #list of tuples with beginning and ending indexes\n",
    "    for i in range(len(list(idxes_st.values()))):\n",
    "        indexes.append((begin[i],endf[i]))\n",
    "\n",
    "    index_dict = dict(zip(list(idxes_st.keys()),indexes))\n",
    "\n",
    "\n",
    "    #add the content from the list to the header dict\n",
    "    for item in index_dict:\n",
    "        dict_out[item] = cl[index_dict[item][0]+1:index_dict[item][1]]\n",
    "    \n",
    "    return dict_out\n"
   ]
  },
  {
   "cell_type": "code",
   "execution_count": 272,
   "metadata": {},
   "outputs": [],
   "source": [
    "content_dict = get_header_idx(children_content,headings_final)"
   ]
  },
  {
   "cell_type": "code",
   "execution_count": 281,
   "metadata": {},
   "outputs": [
    {
     "data": {
      "text/plain": [
       "['[',\n",
       " 'edit',\n",
       " ']',\n",
       " 'Main article:',\n",
       " 'Parallels Workstation',\n",
       " 'HDD – Virtual Machine hard disk (.hdd)',\n",
       " 'PVS – Virtual Machine preferences/configuration (.pvs)',\n",
       " 'SAV – Virtual Machine saved state (.sav)']"
      ]
     },
     "execution_count": 281,
     "metadata": {},
     "output_type": "execute_result"
    }
   ],
   "source": [
    "content_dict['Parallels Workstation']"
   ]
  },
  {
   "cell_type": "code",
   "execution_count": 130,
   "metadata": {},
   "outputs": [],
   "source": [
    "content_final = get_header_idx(children_content,headers)"
   ]
  },
  {
   "cell_type": "code",
   "execution_count": null,
   "metadata": {},
   "outputs": [],
   "source": []
  }
 ],
 "metadata": {
  "interpreter": {
   "hash": "a4bd76f36fa07c92d423ad5d1d2cbe0ac2e2f53edb5b0446e053ad16aa699156"
  },
  "kernelspec": {
   "display_name": "Python 3.8.3 ('base')",
   "language": "python",
   "name": "python3"
  },
  "language_info": {
   "codemirror_mode": {
    "name": "ipython",
    "version": 3
   },
   "file_extension": ".py",
   "mimetype": "text/x-python",
   "name": "python",
   "nbconvert_exporter": "python",
   "pygments_lexer": "ipython3",
   "version": "3.8.3"
  },
  "orig_nbformat": 4
 },
 "nbformat": 4,
 "nbformat_minor": 2
}
