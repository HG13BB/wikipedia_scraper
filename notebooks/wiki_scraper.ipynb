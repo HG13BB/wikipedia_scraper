{
 "cells": [
  {
   "cell_type": "code",
   "execution_count": 1,
   "metadata": {},
   "outputs": [],
   "source": [
    "import pandas as pd\n",
    "from bs4 import BeautifulSoup\n",
    "import requests"
   ]
  },
  {
   "cell_type": "code",
   "execution_count": 2,
   "metadata": {},
   "outputs": [],
   "source": [
    "wp_filetypes = 'https://en.wikipedia.org/wiki/List_of_file_formats'"
   ]
  },
  {
   "cell_type": "code",
   "execution_count": 3,
   "metadata": {},
   "outputs": [],
   "source": [
    "page = requests.get(wp_filetypes)"
   ]
  },
  {
   "cell_type": "code",
   "execution_count": 4,
   "metadata": {},
   "outputs": [],
   "source": [
    "soup = BeautifulSoup(page.text,'html.parser')"
   ]
  },
  {
   "cell_type": "code",
   "execution_count": 6,
   "metadata": {},
   "outputs": [],
   "source": [
    "children = [child for child in mydivs[0].children]"
   ]
  },
  {
   "cell_type": "code",
   "execution_count": 76,
   "metadata": {},
   "outputs": [],
   "source": [
    "#all of the file type headings appear to carry an h32 or h3 tag\n",
    "headings_1 = [item.text for item in  soup.find_all('h2')]\n",
    "headings_2 = [item.text for item in soup.find_all('h3')]\n",
    "headings = headings_1 + headings_2"
   ]
  },
  {
   "cell_type": "code",
   "execution_count": 82,
   "metadata": {},
   "outputs": [
    {
     "data": {
      "text/plain": [
       "41"
      ]
     },
     "execution_count": 82,
     "metadata": {},
     "output_type": "execute_result"
    }
   ],
   "source": [
    "headings_final.index('Physical recordable media archiving')"
   ]
  },
  {
   "cell_type": "code",
   "execution_count": 80,
   "metadata": {},
   "outputs": [],
   "source": [
    "#strip out irrelevant items with same tag\n",
    "headings_final = [h for h in headings if h.endswith('[edit]') == True]\n",
    "headings_final = [h.replace('[edit]','') for h in headings_final]"
   ]
  },
  {
   "cell_type": "code",
   "execution_count": 86,
   "metadata": {},
   "outputs": [
    {
     "name": "stdout",
     "output_type": "stream",
     "text": [
      "['Archive and compressed', 'Computer-aided design', 'Database', 'Big Data (Distributed)', 'Desktop publishing', 'Document', 'Financial records', 'Font file', 'Geographic information system', 'Graphical information organizers', 'Graphics', 'Links and shortcuts', 'Mathematical', 'Object code, executable files, shared and dynamically linked libraries', 'Page description language', 'Personal information manager', 'Presentation', 'Project management software', 'Reference management software', 'Scientific data (data exchange)', 'Programming languages and scripts', 'Security', 'Signal data (non-audio)', 'Sound and music', 'Playlist formats', 'Audio editing and music production', 'Recorded television formats', 'Source code for computer programs', 'Spreadsheet', 'Tabulated data', 'Video', 'Video game data', 'Video game storage media', 'Virtual machines', 'Web page', 'Markup languages and other web standards-based formats', 'Other', 'Generalized files', 'See also', 'References', 'External links', 'Physical recordable media archiving', 'Other Extensions', 'Computer-aided design (CAD)', 'Electronic design automation (EDA)', 'Test technology', 'Financial data transfer formats', 'Color palettes', 'Color management', 'Raster graphics', 'Vector graphics', '3D graphics', 'Multi-domain', 'Meteorology', 'Chemistry', 'Mathematics', 'Biology', 'Biomedical imaging', 'Biomedical signals (time series)', 'Other biomedical formats', 'Biometric formats', 'Certificates and keys', 'Encrypted files', 'Password files', 'Lossless audio', 'Lossy audio', 'Tracker modules and related', 'Sheet music files', 'Other file formats pertaining to audio', 'Video editing, production', 'Microsoft Virtual PC, Virtual Server', 'EMC VMware ESX, GSX, Workstation, Player', 'VirtualBox', 'Parallels Workstation', 'QEMU', 'Cursors', 'General data formats', 'Generic file extensions', 'Partial files', 'Temporary files']\n"
     ]
    }
   ],
   "source": [
    "print(headings_final)"
   ]
  },
  {
   "cell_type": "code",
   "execution_count": 88,
   "metadata": {},
   "outputs": [],
   "source": [
    "#find the tag that appears to hold all of our relevant content\n",
    "mydivs = soup.find_all(\"div\", {\"class\": \"mw-parser-output\"})\n",
    "\n",
    "#list of stripped strings in that tag\n",
    "children = [child for child in mydivs[0].stripped_strings]\n"
   ]
  },
  {
   "cell_type": "code",
   "execution_count": 89,
   "metadata": {},
   "outputs": [
    {
     "data": {
      "text/plain": [
       "233"
      ]
     },
     "execution_count": 89,
     "metadata": {},
     "output_type": "execute_result"
    }
   ],
   "source": [
    "#find index of last item before the beginning of data for each file type\n",
    "children.index('External links')"
   ]
  },
  {
   "cell_type": "code",
   "execution_count": 90,
   "metadata": {},
   "outputs": [],
   "source": [
    "children_content = children[children.index('External links')+1:]"
   ]
  },
  {
   "cell_type": "code",
   "execution_count": null,
   "metadata": {},
   "outputs": [],
   "source": [
    "#functions to loop through the chilren/content and check if an item is in the headings\n",
    "#if it is in the headsing, the append it to the heading in a dictionary"
   ]
  }
 ],
 "metadata": {
  "interpreter": {
   "hash": "a4bd76f36fa07c92d423ad5d1d2cbe0ac2e2f53edb5b0446e053ad16aa699156"
  },
  "kernelspec": {
   "display_name": "Python 3.8.3 ('base')",
   "language": "python",
   "name": "python3"
  },
  "language_info": {
   "codemirror_mode": {
    "name": "ipython",
    "version": 3
   },
   "file_extension": ".py",
   "mimetype": "text/x-python",
   "name": "python",
   "nbconvert_exporter": "python",
   "pygments_lexer": "ipython3",
   "version": "3.8.3"
  },
  "orig_nbformat": 4
 },
 "nbformat": 4,
 "nbformat_minor": 2
}
