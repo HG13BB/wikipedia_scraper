{
 "cells": [
  {
   "cell_type": "code",
   "execution_count": 284,
   "metadata": {},
   "outputs": [],
   "source": [
    "import pandas as pd\n",
    "from bs4 import BeautifulSoup\n",
    "import requests"
   ]
  },
  {
   "cell_type": "code",
   "execution_count": 285,
   "metadata": {},
   "outputs": [],
   "source": [
    "wp_filetypes = 'https://en.wikipedia.org/wiki/List_of_file_formats'"
   ]
  },
  {
   "cell_type": "code",
   "execution_count": 286,
   "metadata": {},
   "outputs": [],
   "source": [
    "page = requests.get(wp_filetypes)"
   ]
  },
  {
   "cell_type": "code",
   "execution_count": 287,
   "metadata": {},
   "outputs": [],
   "source": [
    "soup = BeautifulSoup(page.text,'html.parser')"
   ]
  },
  {
   "cell_type": "code",
   "execution_count": 318,
   "metadata": {},
   "outputs": [],
   "source": [
    "#idenfity the heading tags\n",
    "#create dict to track starting line of each heading tag\n",
    "heading_tags = [\"h1\", \"h2\", \"h3\",\"h4\"]\n",
    "heading_pos = [i.sourceline for i in soup.find_all(heading_tags)]\n",
    "heading_text = [i.text for i in soup.find_all(heading_tags)]\n",
    "\n",
    "#identify the content that we are interested in and the related links\n",
    "#track the line positions of each\n",
    "\n",
    "#text and position of content\n",
    "content_pos = [i.sourceline for i in soup.find_all('li')]\n",
    "content_text = [i.text for i in soup.find_all('li')]\n",
    "\n",
    "#links\n",
    "href_pos = [i.sourceline for i in soup.find_all('a',href=True)]\n",
    "href_link = [i['href'] for i in soup.find_all('a',href=True)]\n"
   ]
  },
  {
   "cell_type": "code",
   "execution_count": 330,
   "metadata": {},
   "outputs": [],
   "source": [
    "def get_tag_pos(poslist,contentlist):\n",
    "    #construct a dict to hold the starting and ending line of each element you are processing\n",
    "    #input: two lists of same length\n",
    "    #output: dict of tuples with start and end pos\n",
    "    poses = {}\n",
    "\n",
    "    for item in range(len(contentlist)):\n",
    "        begin = poslist[item]\n",
    "        \n",
    "        #create tuple with beginning and ending indexes of each heading\n",
    "        if item == len(poslist)-1:\n",
    "            end = content_pos[-1] #if end of heading list take last content tag pos\n",
    "        else:\n",
    "            end = poslist[item+1]-1  #next line minus 1\n",
    "        \n",
    "        poses[contentlist[item]] = (begin,end)\n",
    "\n",
    "    return poses"
   ]
  },
  {
   "cell_type": "code",
   "execution_count": 332,
   "metadata": {},
   "outputs": [],
   "source": [
    "heading_scope = get_tag_pos(heading_pos,heading_text)"
   ]
  },
  {
   "cell_type": "code",
   "execution_count": 333,
   "metadata": {},
   "outputs": [],
   "source": [
    "content_scope = get_tag_pos(content_pos,content_text)"
   ]
  },
  {
   "cell_type": "code",
   "execution_count": 336,
   "metadata": {},
   "outputs": [],
   "source": [
    "links_scope = get_tag_pos(href_pos,href_link)"
   ]
  },
  {
   "cell_type": "code",
   "execution_count": 338,
   "metadata": {},
   "outputs": [],
   "source": [
    "def connect_links(content,links):\n",
    "    #create dict to connect the text from list content \n",
    "    #to relevant tags\n",
    "    #input: two dicts\n",
    "    #output: nested dict\n",
    "    content_links = {}\n",
    "\n",
    "    for text in content:\n",
    "        \n",
    "        #nest dict holds the position of the content and the link\n",
    "        temp = {}\n",
    "        temp['pos'] = content[text]\n",
    "        temp['link'] = []\n",
    "                    \n",
    "        for link in links:\n",
    "            if content[text][0] <= links[link][0] <= content[text][1]:\n",
    "                temp['link'].append(link)\n",
    "\n",
    "        content_links[text] = temp\n",
    "    \n",
    "    return content_links"
   ]
  },
  {
   "cell_type": "code",
   "execution_count": 340,
   "metadata": {},
   "outputs": [],
   "source": [
    "files_links = connect_links(content_scope,links_scope)"
   ]
  }
 ],
 "metadata": {
  "interpreter": {
   "hash": "a4bd76f36fa07c92d423ad5d1d2cbe0ac2e2f53edb5b0446e053ad16aa699156"
  },
  "kernelspec": {
   "display_name": "Python 3.8.3 ('base')",
   "language": "python",
   "name": "python3"
  },
  "language_info": {
   "codemirror_mode": {
    "name": "ipython",
    "version": 3
   },
   "file_extension": ".py",
   "mimetype": "text/x-python",
   "name": "python",
   "nbconvert_exporter": "python",
   "pygments_lexer": "ipython3",
   "version": "3.8.3"
  },
  "orig_nbformat": 4
 },
 "nbformat": 4,
 "nbformat_minor": 2
}
