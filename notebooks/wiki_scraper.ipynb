{
 "cells": [
  {
   "cell_type": "code",
   "execution_count": 1,
   "metadata": {},
   "outputs": [],
   "source": [
    "import pandas as pd\n",
    "from bs4 import BeautifulSoup\n",
    "import requests"
   ]
  },
  {
   "cell_type": "code",
   "execution_count": 2,
   "metadata": {},
   "outputs": [],
   "source": [
    "wp_filetypes = 'https://en.wikipedia.org/wiki/List_of_file_formats'"
   ]
  },
  {
   "cell_type": "code",
   "execution_count": 3,
   "metadata": {},
   "outputs": [],
   "source": [
    "page = requests.get(wp_filetypes)"
   ]
  },
  {
   "cell_type": "code",
   "execution_count": 4,
   "metadata": {},
   "outputs": [],
   "source": [
    "soup = BeautifulSoup(page.text,'html.parser')"
   ]
  },
  {
   "cell_type": "code",
   "execution_count": 6,
   "metadata": {},
   "outputs": [],
   "source": [
    "children = [child for child in mydivs[0].children]"
   ]
  },
  {
   "cell_type": "code",
   "execution_count": 235,
   "metadata": {},
   "outputs": [],
   "source": [
    "#all of the file type headings appear to carry an h32 or h3 tag\n",
    "headings_1 = [item.text for item in  soup.find_all('h2')]\n",
    "headings_2 = [item.text for item in soup.find_all('h3')]\n",
    "headings_3 = [item.text for item in soup.find_all('h4')]\n",
    "\n",
    "headings = headings_1 + headings_2 + headings_3"
   ]
  },
  {
   "cell_type": "code",
   "execution_count": 236,
   "metadata": {},
   "outputs": [
    {
     "data": {
      "text/plain": [
       "41"
      ]
     },
     "execution_count": 236,
     "metadata": {},
     "output_type": "execute_result"
    }
   ],
   "source": [
    "headings_final.index('Physical recordable media archiving')"
   ]
  },
  {
   "cell_type": "code",
   "execution_count": 237,
   "metadata": {},
   "outputs": [],
   "source": [
    "#strip out irrelevant items with same tag\n",
    "headings_final = [h for h in headings if h.endswith('[edit]') == True]\n",
    "headings_final = [h.replace('[edit]','') for h in headings_final]"
   ]
  },
  {
   "cell_type": "code",
   "execution_count": 238,
   "metadata": {},
   "outputs": [
    {
     "name": "stdout",
     "output_type": "stream",
     "text": [
      "['Archive and compressed', 'Computer-aided design', 'Database', 'Big Data (Distributed)', 'Desktop publishing', 'Document', 'Financial records', 'Font file', 'Geographic information system', 'Graphical information organizers', 'Graphics', 'Links and shortcuts', 'Mathematical', 'Object code, executable files, shared and dynamically linked libraries', 'Page description language', 'Personal information manager', 'Presentation', 'Project management software', 'Reference management software', 'Scientific data (data exchange)', 'Programming languages and scripts', 'Security', 'Signal data (non-audio)', 'Sound and music', 'Playlist formats', 'Audio editing and music production', 'Recorded television formats', 'Source code for computer programs', 'Spreadsheet', 'Tabulated data', 'Video', 'Video game data', 'Video game storage media', 'Virtual machines', 'Web page', 'Markup languages and other web standards-based formats', 'Other', 'Generalized files', 'See also', 'References', 'External links', 'Physical recordable media archiving', 'Other Extensions', 'Computer-aided design (CAD)', 'Electronic design automation (EDA)', 'Test technology', 'Financial data transfer formats', 'Color palettes', 'Color management', 'Raster graphics', 'Vector graphics', '3D graphics', 'Multi-domain', 'Meteorology', 'Chemistry', 'Mathematics', 'Biology', 'Biomedical imaging', 'Biomedical signals (time series)', 'Other biomedical formats', 'Biometric formats', 'Certificates and keys', 'Encrypted files', 'Password files', 'Lossless audio', 'Lossy audio', 'Tracker modules and related', 'Sheet music files', 'Other file formats pertaining to audio', 'Video editing, production', 'Microsoft Virtual PC, Virtual Server', 'EMC VMware ESX, GSX, Workstation, Player', 'VirtualBox', 'Parallels Workstation', 'QEMU', 'Cursors', 'General data formats', 'Generic file extensions', 'Partial files', 'Temporary files', 'X.509', 'Uncompressed', 'Compressed', 'Text-based', 'Binary files', 'Text files', 'Differences and patches', 'Incomplete transfers']\n"
     ]
    }
   ],
   "source": [
    "print(headings_final)"
   ]
  },
  {
   "cell_type": "code",
   "execution_count": 239,
   "metadata": {},
   "outputs": [],
   "source": [
    "#find the tag that appears to hold all of our relevant content\n",
    "mydivs = soup.find_all(\"div\", {\"class\": \"mw-parser-output\"})\n",
    "\n",
    "#list of stripped strings in that tag\n",
    "children = [child for child in mydivs[0].stripped_strings]\n"
   ]
  },
  {
   "cell_type": "code",
   "execution_count": 240,
   "metadata": {},
   "outputs": [
    {
     "data": {
      "text/plain": [
       "233"
      ]
     },
     "execution_count": 240,
     "metadata": {},
     "output_type": "execute_result"
    }
   ],
   "source": [
    "#find index of last item before the beginning of data for each file type\n",
    "children.index('External links')"
   ]
  },
  {
   "cell_type": "code",
   "execution_count": 241,
   "metadata": {},
   "outputs": [],
   "source": [
    "children_content = children[children.index('External links')+1:]"
   ]
  },
  {
   "cell_type": "code",
   "execution_count": 242,
   "metadata": {},
   "outputs": [],
   "source": [
    "#build dict of empty lists from list of headings\n",
    "\n",
    "def heading_dict(hl):\n",
    "    #create dict of empty lists from list of keys\n",
    "    return dict(zip(hl,[[]]*len(hl)))"
   ]
  },
  {
   "cell_type": "code",
   "execution_count": 243,
   "metadata": {},
   "outputs": [],
   "source": [
    "headers = heading_dict(headings_final)"
   ]
  },
  {
   "cell_type": "code",
   "execution_count": 247,
   "metadata": {},
   "outputs": [],
   "source": [
    "def get_header_idx(cl,dl):\n",
    "    #create a dict of \n",
    "    \n",
    "    idxes_st = {}\n",
    "    index_dict = {}\n",
    "    dict_out = {}\n",
    "    \n",
    "    #get the indexes of each header from dict\n",
    "    for item in cl:\n",
    "        #id2 = id1 \n",
    "        if item in dl:\n",
    "            idxes_st[item] = cl.index(item)\n",
    "        else:\n",
    "            pass\n",
    "    \n",
    "    #create list of beginning and ending indexes to zip\n",
    "    begin = list(idxes_st.values())\n",
    "    end = list(idxes_st.values())#.append(len(cl)-1)\n",
    "    end.append(len(cl)-1)\n",
    "    endf = end[1:]\n",
    "    indexes = []\n",
    "    \n",
    "    \n",
    "    #list of tuples with beginning and ending indexes\n",
    "    for i in range(len(list(idxes_st.values()))):\n",
    "        indexes.append((begin[i],endf[i]))\n",
    "\n",
    "    index_dict = dict(zip(list(idxes_st.keys()),indexes))\n",
    "\n",
    "\n",
    "    #add the content from the list to the header dict\n",
    "    for item in index_dict:\n",
    "        dict_out[item] = cl[index_dict[item][0]+1:index_dict[item][1]]\n",
    "    \n",
    "    return dict_out\n"
   ]
  },
  {
   "cell_type": "code",
   "execution_count": 252,
   "metadata": {},
   "outputs": [
    {
     "data": {
      "text/plain": [
       "['[',\n",
       " 'edit',\n",
       " ']',\n",
       " 'These file formats are fairly well defined by long-term use or a general standard, but the content of each file is often highly specific to particular software or has been extended by further standards for specific uses.']"
      ]
     },
     "execution_count": 252,
     "metadata": {},
     "output_type": "execute_result"
    }
   ],
   "source": [
    "get_header_idx(children_content,headers)['General data formats']"
   ]
  },
  {
   "cell_type": "code",
   "execution_count": null,
   "metadata": {},
   "outputs": [],
   "source": []
  },
  {
   "cell_type": "code",
   "execution_count": 97,
   "metadata": {},
   "outputs": [],
   "source": [
    "def append_hdrs(cl,dl):\n",
    "    #loop through a list and check if the value in the list is a key in \n",
    "    #your dictionary add subsequent items to dict if it is not\n",
    "    for item in cl:\n",
    "        #check if your item is a key in the dict\n",
    "        #if it is, make it the key\n",
    "        if item in dl:\n",
    "            key = item\n",
    "        #if item is not in dict, append to existing key\n",
    "        else:\n",
    "            dl[key].append(item)\n",
    "\n",
    "    return dl    \n",
    "\n",
    "    "
   ]
  },
  {
   "cell_type": "code",
   "execution_count": 130,
   "metadata": {},
   "outputs": [],
   "source": [
    "content_final = get_header_idx(children_content,headers)"
   ]
  },
  {
   "cell_type": "code",
   "execution_count": 144,
   "metadata": {},
   "outputs": [
    {
     "name": "stdout",
     "output_type": "stream",
     "text": [
      "None\n"
     ]
    }
   ],
   "source": [
    "print(sorted_)"
   ]
  },
  {
   "cell_type": "code",
   "execution_count": null,
   "metadata": {},
   "outputs": [],
   "source": []
  }
 ],
 "metadata": {
  "interpreter": {
   "hash": "a4bd76f36fa07c92d423ad5d1d2cbe0ac2e2f53edb5b0446e053ad16aa699156"
  },
  "kernelspec": {
   "display_name": "Python 3.8.3 ('base')",
   "language": "python",
   "name": "python3"
  },
  "language_info": {
   "codemirror_mode": {
    "name": "ipython",
    "version": 3
   },
   "file_extension": ".py",
   "mimetype": "text/x-python",
   "name": "python",
   "nbconvert_exporter": "python",
   "pygments_lexer": "ipython3",
   "version": "3.8.3"
  },
  "orig_nbformat": 4
 },
 "nbformat": 4,
 "nbformat_minor": 2
}
