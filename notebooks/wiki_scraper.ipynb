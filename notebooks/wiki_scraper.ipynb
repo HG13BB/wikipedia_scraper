{
 "cells": [
  {
   "cell_type": "code",
   "execution_count": 2,
   "metadata": {},
   "outputs": [],
   "source": [
    "import pandas as pd\n",
    "from bs4 import BeautifulSoup\n",
    "import requests\n",
    "import re"
   ]
  },
  {
   "cell_type": "code",
   "execution_count": 3,
   "metadata": {},
   "outputs": [],
   "source": [
    "wp_filetypes = 'https://en.wikipedia.org/wiki/List_of_file_formats'"
   ]
  },
  {
   "cell_type": "code",
   "execution_count": 4,
   "metadata": {},
   "outputs": [],
   "source": [
    "page = requests.get(wp_filetypes)"
   ]
  },
  {
   "cell_type": "code",
   "execution_count": 5,
   "metadata": {},
   "outputs": [],
   "source": [
    "soup = BeautifulSoup(page.text,'html.parser')"
   ]
  },
  {
   "cell_type": "code",
   "execution_count": 6,
   "metadata": {},
   "outputs": [],
   "source": [
    "#idenfity the heading tags\n",
    "#create dict to track starting line of each heading tag\n",
    "heading_tags = [\"h1\", \"h2\", \"h3\",\"h4\"]\n",
    "heading_pos = [i.sourceline for i in soup.find_all(heading_tags)]\n",
    "heading_text = [i.text for i in soup.find_all(heading_tags)]\n",
    "\n",
    "#identify the content that we are interested in and the related links\n",
    "#track the line positions of each\n",
    "\n",
    "#text and position of content\n",
    "content_pos = [i.sourceline for i in soup.find_all('li')]\n",
    "content_text = [i.text for i in soup.find_all('li')]\n",
    "\n",
    "#links\n",
    "href_pos = [i.sourceline for i in soup.find_all('a',href=True)]\n",
    "href_link = [i['href'] for i in soup.find_all('a',href=True)]\n"
   ]
  },
  {
   "cell_type": "code",
   "execution_count": 7,
   "metadata": {},
   "outputs": [],
   "source": [
    "def get_tag_pos(poslist,contentlist):\n",
    "    #construct a dict to hold the starting and ending line of each element you are processing\n",
    "    #input: two lists of same length\n",
    "    #output: dict of tuples with start and end pos\n",
    "    poses = {}\n",
    "\n",
    "    for item in range(len(contentlist)):\n",
    "        begin = poslist[item]\n",
    "        \n",
    "        #create tuple with beginning and ending indexes of each heading\n",
    "        if item == len(poslist)-1:\n",
    "            end = content_pos[-1] #if end of heading list take last content tag pos\n",
    "        else:\n",
    "            end = poslist[item+1]-1  #next line minus 1\n",
    "        \n",
    "        poses[contentlist[item]] = (begin,end)\n",
    "\n",
    "    return poses"
   ]
  },
  {
   "cell_type": "code",
   "execution_count": 8,
   "metadata": {},
   "outputs": [],
   "source": [
    "heading_scope = get_tag_pos(heading_pos,heading_text)"
   ]
  },
  {
   "cell_type": "code",
   "execution_count": 9,
   "metadata": {},
   "outputs": [],
   "source": [
    "content_scope = get_tag_pos(content_pos,content_text)"
   ]
  },
  {
   "cell_type": "code",
   "execution_count": 10,
   "metadata": {},
   "outputs": [],
   "source": [
    "links_scope = get_tag_pos(href_pos,href_link)"
   ]
  },
  {
   "cell_type": "code",
   "execution_count": 11,
   "metadata": {},
   "outputs": [],
   "source": [
    "def connect_links(content,links):\n",
    "    #create dict to connect the text from list content \n",
    "    #to relevant tags\n",
    "    #input: two dicts\n",
    "    #output: nested dict\n",
    "    content_links = {}\n",
    "\n",
    "    for text in content:\n",
    "        \n",
    "        #nest dict holds the position of the content and the link\n",
    "        temp = {}\n",
    "        temp['pos'] = content[text]\n",
    "        temp['link'] = []\n",
    "                    \n",
    "        for link in links:\n",
    "            if content[text][0] <= links[link][0] <= content[text][1]:\n",
    "                temp['link'].append(link)\n",
    "\n",
    "        content_links[text] = temp\n",
    "    \n",
    "    return content_links"
   ]
  },
  {
   "cell_type": "code",
   "execution_count": 12,
   "metadata": {},
   "outputs": [],
   "source": [
    "files_links = connect_links(content_scope,links_scope)"
   ]
  },
  {
   "cell_type": "code",
   "execution_count": 13,
   "metadata": {},
   "outputs": [],
   "source": [
    "def join_hdr_content(hdr,content):\n",
    "    #join the headers with the content (file types and links) based on position\n",
    "    \n",
    "    hdr_cont_out = dict(zip(hdr.keys(), ([] for _ in hdr.keys())))\n",
    "    #hdr_cont_out_lnk = dict(zip(hdr.keys(), ([] for _ in hdr.keys())))\n",
    "\n",
    "    for h in hdr:\n",
    "        for c in content:\n",
    "            #check if the file info tag is at the position of the heading\n",
    "            if hdr[h][0] <= content[c]['pos'][0] <= hdr[h][1]:\n",
    "                file_info = []\n",
    "                file_info.append(c)\n",
    "                \n",
    "                if len(content[c]['link']) > 0:\n",
    "                    file_info.append(content[c]['link'][0])\n",
    "                else:\n",
    "                    file_info.append(None)\n",
    "\n",
    "                hdr_cont_out[h].append(file_info)\n",
    "\n",
    "    \n",
    "    #remove unneeded items in the final output\n",
    "    return  {k: v for k, v in hdr_cont_out.items() if k.endswith('[edit]')}\n",
    "    \n",
    "    "
   ]
  },
  {
   "cell_type": "code",
   "execution_count": 14,
   "metadata": {},
   "outputs": [],
   "source": [
    "final_dict = join_hdr_content(heading_scope,files_links)"
   ]
  },
  {
   "cell_type": "code",
   "execution_count": 15,
   "metadata": {},
   "outputs": [],
   "source": [
    "\n",
    "def df_from_wpdict(wpdict):\n",
    "    #create a dataframe for each item in a dict and append to a main df\n",
    "    #dict -> df\n",
    "    \n",
    "    df_cols = ['file_category','file_info','wikilink']\n",
    "    filetypes = pd.DataFrame(columns=df_cols)\n",
    "    \n",
    "    \n",
    "    #loop through the dict items and append to the df\n",
    "    for k in wpdict:\n",
    "        for f in wpdict[k]:\n",
    "            data = [k,f[0],f[1]]\n",
    "            df = pd.DataFrame([data],columns=df_cols)\n",
    "            filetypes = filetypes.append(df)\n",
    "    \n",
    "    return filetypes    "
   ]
  },
  {
   "cell_type": "code",
   "execution_count": 16,
   "metadata": {},
   "outputs": [],
   "source": [
    "df_ft = df_from_wpdict(final_dict)"
   ]
  },
  {
   "cell_type": "code",
   "execution_count": 18,
   "metadata": {},
   "outputs": [],
   "source": [
    "def clean_fc(value):\n",
    "    #clean the text in file_category\n",
    "    return value.replace('[edit]','')"
   ]
  },
  {
   "cell_type": "code",
   "execution_count": 19,
   "metadata": {},
   "outputs": [],
   "source": [
    "def remove_elrf(df):\n",
    "    #remove the headings that related to external links and references\n",
    "    #in the wikipedia article\n",
    "    return df[~df.file_category.isin(['External links','References','See also'])].reset_index().drop('index',axis=1)\n"
   ]
  },
  {
   "cell_type": "code",
   "execution_count": 20,
   "metadata": {},
   "outputs": [],
   "source": [
    "df_ft.file_category = df_ft.file_category.apply(clean_fc)"
   ]
  },
  {
   "cell_type": "code",
   "execution_count": 21,
   "metadata": {},
   "outputs": [],
   "source": [
    "df_ft_rm = remove_elrf(df_ft)"
   ]
  },
  {
   "cell_type": "code",
   "execution_count": 22,
   "metadata": {},
   "outputs": [],
   "source": [
    "def clean_links(value):\n",
    "    #clean up the wikipedia links to just include this from wikipedia\n",
    "    if value:\n",
    "        if '/wiki/' in value:\n",
    "            return 'https://en.wikipedia.org/' + value\n",
    "        else:\n",
    "            return None"
   ]
  },
  {
   "cell_type": "code",
   "execution_count": 23,
   "metadata": {},
   "outputs": [],
   "source": [
    "df_ft_rm.wikilink = df_ft_rm.wikilink.apply(clean_links)"
   ]
  },
  {
   "cell_type": "code",
   "execution_count": 24,
   "metadata": {},
   "outputs": [],
   "source": [
    "def extract_file_ext(value):\n",
    "    #extract a file extension from string\n",
    "    if value:\n",
    "        if '-' in value:\n",
    "            return value.split('-')[0]\n",
    "        if ' – ' in value:\n",
    "            return value.split(' – ')[0]\n",
    "        else:\n",
    "            pass \n",
    "        \n",
    "        \n",
    "        #else:\n",
    "        #    re.findall(r'\\.\\w+',value)[0].replace('.','')\n",
    "\n",
    "\n",
    "    "
   ]
  },
  {
   "cell_type": "code",
   "execution_count": 25,
   "metadata": {},
   "outputs": [],
   "source": [
    "df_ft_rm['file_ext'] = df_ft_rm.file_info.apply(extract_file_ext)"
   ]
  },
  {
   "cell_type": "code",
   "execution_count": 26,
   "metadata": {},
   "outputs": [],
   "source": [
    "dcm = df_ft_rm[df_ft_rm.file_info == 'Digital Imaging and Communications in Medicine (DICOM) (.dcm)'].file_info[847]"
   ]
  },
  {
   "cell_type": "code",
   "execution_count": 27,
   "metadata": {},
   "outputs": [
    {
     "data": {
      "text/html": [
       "<div>\n",
       "<style scoped>\n",
       "    .dataframe tbody tr th:only-of-type {\n",
       "        vertical-align: middle;\n",
       "    }\n",
       "\n",
       "    .dataframe tbody tr th {\n",
       "        vertical-align: top;\n",
       "    }\n",
       "\n",
       "    .dataframe thead th {\n",
       "        text-align: right;\n",
       "    }\n",
       "</style>\n",
       "<table border=\"1\" class=\"dataframe\">\n",
       "  <thead>\n",
       "    <tr style=\"text-align: right;\">\n",
       "      <th></th>\n",
       "      <th>file_category</th>\n",
       "      <th>file_info</th>\n",
       "      <th>wikilink</th>\n",
       "      <th>file_ext</th>\n",
       "    </tr>\n",
       "  </thead>\n",
       "  <tbody>\n",
       "    <tr>\n",
       "      <th>847</th>\n",
       "      <td>Biomedical imaging</td>\n",
       "      <td>Digital Imaging and Communications in Medicine...</td>\n",
       "      <td>https://en.wikipedia.org//wiki/Digital_Imaging...</td>\n",
       "      <td>None</td>\n",
       "    </tr>\n",
       "  </tbody>\n",
       "</table>\n",
       "</div>"
      ],
      "text/plain": [
       "          file_category                                          file_info  \\\n",
       "847  Biomedical imaging  Digital Imaging and Communications in Medicine...   \n",
       "\n",
       "                                              wikilink file_ext  \n",
       "847  https://en.wikipedia.org//wiki/Digital_Imaging...     None  "
      ]
     },
     "execution_count": 27,
     "metadata": {},
     "output_type": "execute_result"
    }
   ],
   "source": [
    "df_ft_rm[df_ft_rm.file_info == 'Chemical table file (CTab) (.mol, .sd, .sdf)']"
   ]
  },
  {
   "cell_type": "code",
   "execution_count": 63,
   "metadata": {},
   "outputs": [],
   "source": [
    "cft = df_ft_rm[df_ft_rm.file_info == 'Chemical table file (CTab) (.mol, .sd, .sdf)']"
   ]
  },
  {
   "cell_type": "code",
   "execution_count": 31,
   "metadata": {},
   "outputs": [
    {
     "data": {
      "text/plain": [
       "['dcm']"
      ]
     },
     "execution_count": 31,
     "metadata": {},
     "output_type": "execute_result"
    }
   ],
   "source": [
    "re_filetypes(dcm)"
   ]
  },
  {
   "cell_type": "code",
   "execution_count": 33,
   "metadata": {},
   "outputs": [
    {
     "data": {
      "text/plain": [
       "['ps', 'ps', 'gz']"
      ]
     },
     "execution_count": 33,
     "metadata": {},
     "output_type": "execute_result"
    }
   ],
   "source": [
    "re_filetypes('PostScript (.ps, .ps.gz)')"
   ]
  },
  {
   "cell_type": "code",
   "execution_count": 76,
   "metadata": {},
   "outputs": [],
   "source": [
    "def re_filetypes(value):\n",
    "    #function leverages re to pull \n",
    "    \n",
    "    result_dot = re.findall(r'\\.\\w+',value)\n",
    "    result_dot = [i.replace('.','') for i in result_dot]\n",
    "\n",
    "\n",
    "    result_nodot = re.findall(r'\\w+',value)\n",
    "    \n",
    "    if len(result_dot) > 0:\n",
    "        return result_dot\n",
    "\n",
    "    elif len(result_nodot) > 0:\n",
    "        return result_nodot[0]\n",
    "        "
   ]
  },
  {
   "cell_type": "code",
   "execution_count": 115,
   "metadata": {},
   "outputs": [],
   "source": [
    "def apply_re_ft(df):\n",
    "    #apply the re filetypes and create new rows for each file extension\n",
    "    #for one row of df\n",
    "    filter_values = list(df.file_info)\n",
    "\n",
    "    final_df = df.copy().truncate(after=0)\n",
    "\n",
    "    for fi in filter_values:\n",
    "        indf = df[df.file_info == fi]\n",
    "\n",
    "        outdf = indf.copy()\n",
    "\n",
    "        value = list(outdf.file_info)[0]\n",
    "        \n",
    "        ft_values =  re_filetypes(value)\n",
    "\n",
    "        if  len(ft_values) > 1:\n",
    "            \n",
    "            for item in ft_values:\n",
    "                tempdf = outdf.copy()\n",
    "                tempdf.file_ext = item\n",
    "                outdf = outdf.append(tempdf)\n",
    "\n",
    "            outdf =  outdf[outdf.file_ext.isna() == False]\n",
    "\n",
    "        else:\n",
    "            outdf.file_ext = ft_values[0]\n",
    "\n",
    "        final_df = final_df.append(outdf)\n",
    "\n",
    "    return final_df.drop_duplicates()\n",
    "\n",
    "    \n",
    "\n"
   ]
  },
  {
   "cell_type": "code",
   "execution_count": 70,
   "metadata": {},
   "outputs": [],
   "source": [
    "df_ft_rm_nulls = df_ft_rm[df_ft_rm.file_ext.isna()==True]\n",
    "df_ft_rm_nonnulls = df_ft_rm[~df_ft_rm.file_ext.isna()==True]"
   ]
  },
  {
   "cell_type": "code",
   "execution_count": 116,
   "metadata": {},
   "outputs": [],
   "source": [
    "test = apply_re_ft(df_ft_rm_nulls)"
   ]
  },
  {
   "cell_type": "code",
   "execution_count": 117,
   "metadata": {},
   "outputs": [
    {
     "data": {
      "text/html": [
       "<div>\n",
       "<style scoped>\n",
       "    .dataframe tbody tr th:only-of-type {\n",
       "        vertical-align: middle;\n",
       "    }\n",
       "\n",
       "    .dataframe tbody tr th {\n",
       "        vertical-align: top;\n",
       "    }\n",
       "\n",
       "    .dataframe thead th {\n",
       "        text-align: right;\n",
       "    }\n",
       "</style>\n",
       "<table border=\"1\" class=\"dataframe\">\n",
       "  <thead>\n",
       "    <tr style=\"text-align: right;\">\n",
       "      <th></th>\n",
       "      <th>file_category</th>\n",
       "      <th>file_info</th>\n",
       "      <th>wikilink</th>\n",
       "      <th>file_ext</th>\n",
       "    </tr>\n",
       "  </thead>\n",
       "  <tbody>\n",
       "    <tr>\n",
       "      <th>24</th>\n",
       "      <td>Archive and compressed</td>\n",
       "      <td>bzip2 (.bz2) –</td>\n",
       "      <td>https://en.wikipedia.org//wiki/Bzip2</td>\n",
       "      <td>bz2</td>\n",
       "    </tr>\n",
       "    <tr>\n",
       "      <th>51</th>\n",
       "      <td>Archive and compressed</td>\n",
       "      <td>HTML (.html) HTML code file</td>\n",
       "      <td>None</td>\n",
       "      <td>html</td>\n",
       "    </tr>\n",
       "    <tr>\n",
       "      <th>61</th>\n",
       "      <td>Archive and compressed</td>\n",
       "      <td>lzo</td>\n",
       "      <td>https://en.wikipedia.org//wiki/Lzo</td>\n",
       "      <td>l</td>\n",
       "    </tr>\n",
       "    <tr>\n",
       "      <th>61</th>\n",
       "      <td>Archive and compressed</td>\n",
       "      <td>lzo</td>\n",
       "      <td>https://en.wikipedia.org//wiki/Lzo</td>\n",
       "      <td>z</td>\n",
       "    </tr>\n",
       "    <tr>\n",
       "      <th>61</th>\n",
       "      <td>Archive and compressed</td>\n",
       "      <td>lzo</td>\n",
       "      <td>https://en.wikipedia.org//wiki/Lzo</td>\n",
       "      <td>o</td>\n",
       "    </tr>\n",
       "    <tr>\n",
       "      <th>...</th>\n",
       "      <td>...</td>\n",
       "      <td>...</td>\n",
       "      <td>...</td>\n",
       "      <td>...</td>\n",
       "    </tr>\n",
       "    <tr>\n",
       "      <th>1307</th>\n",
       "      <td>Video editing, production</td>\n",
       "      <td>WFP / WVE — Wondershare Filmora Project</td>\n",
       "      <td>None</td>\n",
       "      <td>P</td>\n",
       "    </tr>\n",
       "    <tr>\n",
       "      <th>1355</th>\n",
       "      <td>Video game data</td>\n",
       "      <td>sometimes used for general data contained with...</td>\n",
       "      <td>None</td>\n",
       "      <td>PK3</td>\n",
       "    </tr>\n",
       "    <tr>\n",
       "      <th>1405</th>\n",
       "      <td>Video game data</td>\n",
       "      <td>HE0, HE2, HE4 HE games File</td>\n",
       "      <td>None</td>\n",
       "      <td>H</td>\n",
       "    </tr>\n",
       "    <tr>\n",
       "      <th>1405</th>\n",
       "      <td>Video game data</td>\n",
       "      <td>HE0, HE2, HE4 HE games File</td>\n",
       "      <td>None</td>\n",
       "      <td>E</td>\n",
       "    </tr>\n",
       "    <tr>\n",
       "      <th>1405</th>\n",
       "      <td>Video game data</td>\n",
       "      <td>HE0, HE2, HE4 HE games File</td>\n",
       "      <td>None</td>\n",
       "      <td>0</td>\n",
       "    </tr>\n",
       "  </tbody>\n",
       "</table>\n",
       "<p>116 rows × 4 columns</p>\n",
       "</div>"
      ],
      "text/plain": [
       "                  file_category  \\\n",
       "24       Archive and compressed   \n",
       "51       Archive and compressed   \n",
       "61       Archive and compressed   \n",
       "61       Archive and compressed   \n",
       "61       Archive and compressed   \n",
       "...                         ...   \n",
       "1307  Video editing, production   \n",
       "1355            Video game data   \n",
       "1405            Video game data   \n",
       "1405            Video game data   \n",
       "1405            Video game data   \n",
       "\n",
       "                                              file_info  \\\n",
       "24                                       bzip2 (.bz2) –   \n",
       "51                          HTML (.html) HTML code file   \n",
       "61                                                  lzo   \n",
       "61                                                  lzo   \n",
       "61                                                  lzo   \n",
       "...                                                 ...   \n",
       "1307            WFP / WVE — Wondershare Filmora Project   \n",
       "1355  sometimes used for general data contained with...   \n",
       "1405                        HE0, HE2, HE4 HE games File   \n",
       "1405                        HE0, HE2, HE4 HE games File   \n",
       "1405                        HE0, HE2, HE4 HE games File   \n",
       "\n",
       "                                  wikilink file_ext  \n",
       "24    https://en.wikipedia.org//wiki/Bzip2      bz2  \n",
       "51                                    None     html  \n",
       "61      https://en.wikipedia.org//wiki/Lzo        l  \n",
       "61      https://en.wikipedia.org//wiki/Lzo        z  \n",
       "61      https://en.wikipedia.org//wiki/Lzo        o  \n",
       "...                                    ...      ...  \n",
       "1307                                  None        P  \n",
       "1355                                  None      PK3  \n",
       "1405                                  None        H  \n",
       "1405                                  None        E  \n",
       "1405                                  None        0  \n",
       "\n",
       "[116 rows x 4 columns]"
      ]
     },
     "execution_count": 117,
     "metadata": {},
     "output_type": "execute_result"
    }
   ],
   "source": [
    "test"
   ]
  },
  {
   "cell_type": "code",
   "execution_count": 113,
   "metadata": {},
   "outputs": [
    {
     "name": "stdout",
     "output_type": "stream",
     "text": [
      "{'NeXML–XML format for phylogenetic trees', 'PPJ & PRPROJ– Adobe Premiere Pro video editing file', 'Simplified molecular input line entry specification (SMILES) (.smi)', 'Alias (Mac OS)', 'BTM — Batch file', 'GeoJSON –Geographically located data in object notation', 'WFP / WVE — Wondershare Filmora Project', 'Amigaguide', 'Scene description languages (3D vector image formats)', 'PostScript (.ps, .ps.gz)', 'Standard Test Data Format', 'sometimes used for general data contained within the .PK3/PK4 files', 'bzip2 (.bz2) –', 'O — Compiled and optimized C/C++ binary', 'Digital Imaging and Communications in Medicine (DICOM) (.dcm)', 'LZX', 'MPEG (.mpeg, .mpg, .mpe)', 'HTML (.html) HTML code file', 'HE0, HE2, HE4 HE games File', 'RenderMan', 'lzo', 'MP3', 'MPEG Layer 3', 'Chemical table file (CTab) (.mol, .sd, .sdf)', 'Joint Committee on Atomic and Molecular Physical Data (JCAMP) (.dx, .jdx)', 'Medical Imaging NetCDF (MINC) format, previously based on NetCDF; since version 2.0, based on HDF5 (.mnc)', 'XPS', 'ASN.1– Abstract Syntax Notation One, is an International Standards Organization (ISO) data representation format used to achieve interoperability between platforms. NCBI uses ASN.1 for the storage and retrieval of data such as nucleotide and protein sequences, structures, genomes, and PubMed records.', 'CLASS — Compiled Java binary', 'PCL', 'expander (see bundle)', 'PLD', 'DSH', 'MOVIE.BYU', 'Troff', 'X3D'}\n"
     ]
    }
   ],
   "source": [
    "print(set(test.file_info))"
   ]
  },
  {
   "cell_type": "code",
   "execution_count": 114,
   "metadata": {},
   "outputs": [
    {
     "name": "stdout",
     "output_type": "stream",
     "text": [
      "['dcm']\n"
     ]
    }
   ],
   "source": [
    "print(list(test[test.file_info == 'Digital Imaging and Communications in Medicine (DICOM) (.dcm)'].file_ext))"
   ]
  },
  {
   "cell_type": "code",
   "execution_count": 81,
   "metadata": {},
   "outputs": [
    {
     "data": {
      "text/html": [
       "<div>\n",
       "<style scoped>\n",
       "    .dataframe tbody tr th:only-of-type {\n",
       "        vertical-align: middle;\n",
       "    }\n",
       "\n",
       "    .dataframe tbody tr th {\n",
       "        vertical-align: top;\n",
       "    }\n",
       "\n",
       "    .dataframe thead th {\n",
       "        text-align: right;\n",
       "    }\n",
       "</style>\n",
       "<table border=\"1\" class=\"dataframe\">\n",
       "  <thead>\n",
       "    <tr style=\"text-align: right;\">\n",
       "      <th></th>\n",
       "      <th>file_category</th>\n",
       "      <th>file_info</th>\n",
       "      <th>wikilink</th>\n",
       "      <th>file_ext</th>\n",
       "    </tr>\n",
       "  </thead>\n",
       "  <tbody>\n",
       "    <tr>\n",
       "      <th>24</th>\n",
       "      <td>Archive and compressed</td>\n",
       "      <td>bzip2 (.bz2) –</td>\n",
       "      <td>https://en.wikipedia.org//wiki/Bzip2</td>\n",
       "      <td>None</td>\n",
       "    </tr>\n",
       "    <tr>\n",
       "      <th>51</th>\n",
       "      <td>Archive and compressed</td>\n",
       "      <td>HTML (.html) HTML code file</td>\n",
       "      <td>None</td>\n",
       "      <td>None</td>\n",
       "    </tr>\n",
       "    <tr>\n",
       "      <th>61</th>\n",
       "      <td>Archive and compressed</td>\n",
       "      <td>lzo</td>\n",
       "      <td>https://en.wikipedia.org//wiki/Lzo</td>\n",
       "      <td>None</td>\n",
       "    </tr>\n",
       "    <tr>\n",
       "      <th>63</th>\n",
       "      <td>Archive and compressed</td>\n",
       "      <td>LZX</td>\n",
       "      <td>https://en.wikipedia.org//wiki/LZX</td>\n",
       "      <td>None</td>\n",
       "    </tr>\n",
       "    <tr>\n",
       "      <th>274</th>\n",
       "      <td>Test technology</td>\n",
       "      <td>Standard Test Data Format</td>\n",
       "      <td>https://en.wikipedia.org//wiki/Standard_Test_D...</td>\n",
       "      <td>None</td>\n",
       "    </tr>\n",
       "    <tr>\n",
       "      <th>369</th>\n",
       "      <td>Document</td>\n",
       "      <td>Amigaguide</td>\n",
       "      <td>https://en.wikipedia.org//wiki/Amigaguide</td>\n",
       "      <td>None</td>\n",
       "    </tr>\n",
       "    <tr>\n",
       "      <th>426</th>\n",
       "      <td>Document</td>\n",
       "      <td>Troff</td>\n",
       "      <td>https://en.wikipedia.org//wiki/Troff</td>\n",
       "      <td>None</td>\n",
       "    </tr>\n",
       "    <tr>\n",
       "      <th>474</th>\n",
       "      <td>Geographic information system</td>\n",
       "      <td>GeoJSON –Geographically located data in object...</td>\n",
       "      <td>https://en.wikipedia.org//wiki/GeoJSON</td>\n",
       "      <td>None</td>\n",
       "    </tr>\n",
       "    <tr>\n",
       "      <th>582</th>\n",
       "      <td>Vector graphics</td>\n",
       "      <td>MOVIE.BYU</td>\n",
       "      <td>None</td>\n",
       "      <td>None</td>\n",
       "    </tr>\n",
       "    <tr>\n",
       "      <th>583</th>\n",
       "      <td>Vector graphics</td>\n",
       "      <td>RenderMan</td>\n",
       "      <td>https://en.wikipedia.org//wiki/RenderMan_Inter...</td>\n",
       "      <td>None</td>\n",
       "    </tr>\n",
       "    <tr>\n",
       "      <th>585</th>\n",
       "      <td>Vector graphics</td>\n",
       "      <td>Scene description languages (3D vector image f...</td>\n",
       "      <td>https://en.wikipedia.org//wiki/Scene_descripti...</td>\n",
       "      <td>None</td>\n",
       "    </tr>\n",
       "    <tr>\n",
       "      <th>588</th>\n",
       "      <td>Vector graphics</td>\n",
       "      <td>X3D</td>\n",
       "      <td>https://en.wikipedia.org//wiki/X3D</td>\n",
       "      <td>None</td>\n",
       "    </tr>\n",
       "    <tr>\n",
       "      <th>687</th>\n",
       "      <td>Links and shortcuts</td>\n",
       "      <td>Alias (Mac OS)</td>\n",
       "      <td>None</td>\n",
       "      <td>None</td>\n",
       "    </tr>\n",
       "    <tr>\n",
       "      <th>716</th>\n",
       "      <td>Object code, executable files, shared and dyna...</td>\n",
       "      <td>expander (see bundle)</td>\n",
       "      <td>None</td>\n",
       "      <td>None</td>\n",
       "    </tr>\n",
       "    <tr>\n",
       "      <th>745</th>\n",
       "      <td>Page description language</td>\n",
       "      <td>PLD</td>\n",
       "      <td>None</td>\n",
       "      <td>None</td>\n",
       "    </tr>\n",
       "    <tr>\n",
       "      <th>746</th>\n",
       "      <td>Page description language</td>\n",
       "      <td>PCL</td>\n",
       "      <td>https://en.wikipedia.org//wiki/Printer_Control...</td>\n",
       "      <td>None</td>\n",
       "    </tr>\n",
       "    <tr>\n",
       "      <th>747</th>\n",
       "      <td>Page description language</td>\n",
       "      <td>PostScript (.ps, .ps.gz)</td>\n",
       "      <td>None</td>\n",
       "      <td>None</td>\n",
       "    </tr>\n",
       "    <tr>\n",
       "      <th>749</th>\n",
       "      <td>Page description language</td>\n",
       "      <td>XPS</td>\n",
       "      <td>https://en.wikipedia.org//wiki/XML_Paper_Speci...</td>\n",
       "      <td>None</td>\n",
       "    </tr>\n",
       "    <tr>\n",
       "      <th>810</th>\n",
       "      <td>Chemistry</td>\n",
       "      <td>Chemical table file (CTab) (.mol, .sd, .sdf)</td>\n",
       "      <td>https://en.wikipedia.org//wiki/Chemical_table_...</td>\n",
       "      <td>None</td>\n",
       "    </tr>\n",
       "    <tr>\n",
       "      <th>811</th>\n",
       "      <td>Chemistry</td>\n",
       "      <td>Joint Committee on Atomic and Molecular Physic...</td>\n",
       "      <td>https://en.wikipedia.org//wiki/Joint_Committee...</td>\n",
       "      <td>None</td>\n",
       "    </tr>\n",
       "    <tr>\n",
       "      <th>812</th>\n",
       "      <td>Chemistry</td>\n",
       "      <td>Simplified molecular input line entry specific...</td>\n",
       "      <td>https://en.wikipedia.org//wiki/Simplified_mole...</td>\n",
       "      <td>None</td>\n",
       "    </tr>\n",
       "    <tr>\n",
       "      <th>817</th>\n",
       "      <td>Biology</td>\n",
       "      <td>ASN.1– Abstract Syntax Notation One, is an Int...</td>\n",
       "      <td>https://en.wikipedia.org//wiki/International_O...</td>\n",
       "      <td>None</td>\n",
       "    </tr>\n",
       "    <tr>\n",
       "      <th>834</th>\n",
       "      <td>Biology</td>\n",
       "      <td>NeXML–XML format for phylogenetic trees</td>\n",
       "      <td>None</td>\n",
       "      <td>None</td>\n",
       "    </tr>\n",
       "    <tr>\n",
       "      <th>847</th>\n",
       "      <td>Biomedical imaging</td>\n",
       "      <td>Digital Imaging and Communications in Medicine...</td>\n",
       "      <td>https://en.wikipedia.org//wiki/Digital_Imaging...</td>\n",
       "      <td>None</td>\n",
       "    </tr>\n",
       "    <tr>\n",
       "      <th>858</th>\n",
       "      <td>Biomedical imaging</td>\n",
       "      <td>Medical Imaging NetCDF (MINC) format, previous...</td>\n",
       "      <td>None</td>\n",
       "      <td>None</td>\n",
       "    </tr>\n",
       "    <tr>\n",
       "      <th>891</th>\n",
       "      <td>Programming languages and scripts</td>\n",
       "      <td>BTM — Batch file</td>\n",
       "      <td>None</td>\n",
       "      <td>None</td>\n",
       "    </tr>\n",
       "    <tr>\n",
       "      <th>892</th>\n",
       "      <td>Programming languages and scripts</td>\n",
       "      <td>CLASS — Compiled Java binary</td>\n",
       "      <td>None</td>\n",
       "      <td>None</td>\n",
       "    </tr>\n",
       "    <tr>\n",
       "      <th>920</th>\n",
       "      <td>Programming languages and scripts</td>\n",
       "      <td>O — Compiled and optimized C/C++ binary</td>\n",
       "      <td>None</td>\n",
       "      <td>None</td>\n",
       "    </tr>\n",
       "    <tr>\n",
       "      <th>1020</th>\n",
       "      <td>Lossy audio</td>\n",
       "      <td>MP3</td>\n",
       "      <td>None</td>\n",
       "      <td>None</td>\n",
       "    </tr>\n",
       "    <tr>\n",
       "      <th>1021</th>\n",
       "      <td>Lossy audio</td>\n",
       "      <td>MPEG Layer 3</td>\n",
       "      <td>https://en.wikipedia.org//wiki/Moving_Picture_...</td>\n",
       "      <td>None</td>\n",
       "    </tr>\n",
       "    <tr>\n",
       "      <th>1266</th>\n",
       "      <td>Video</td>\n",
       "      <td>DSH</td>\n",
       "      <td>None</td>\n",
       "      <td>None</td>\n",
       "    </tr>\n",
       "    <tr>\n",
       "      <th>1280</th>\n",
       "      <td>Video</td>\n",
       "      <td>MPEG (.mpeg, .mpg, .mpe)</td>\n",
       "      <td>https://en.wikipedia.org//wiki/MPEG</td>\n",
       "      <td>None</td>\n",
       "    </tr>\n",
       "    <tr>\n",
       "      <th>1298</th>\n",
       "      <td>Video editing, production</td>\n",
       "      <td>PPJ &amp; PRPROJ– Adobe Premiere Pro video editing...</td>\n",
       "      <td>https://en.wikipedia.org//wiki/Adobe_Premiere_Pro</td>\n",
       "      <td>None</td>\n",
       "    </tr>\n",
       "    <tr>\n",
       "      <th>1307</th>\n",
       "      <td>Video editing, production</td>\n",
       "      <td>WFP / WVE — Wondershare Filmora Project</td>\n",
       "      <td>None</td>\n",
       "      <td>None</td>\n",
       "    </tr>\n",
       "    <tr>\n",
       "      <th>1355</th>\n",
       "      <td>Video game data</td>\n",
       "      <td>sometimes used for general data contained with...</td>\n",
       "      <td>None</td>\n",
       "      <td>None</td>\n",
       "    </tr>\n",
       "    <tr>\n",
       "      <th>1405</th>\n",
       "      <td>Video game data</td>\n",
       "      <td>HE0, HE2, HE4 HE games File</td>\n",
       "      <td>None</td>\n",
       "      <td>None</td>\n",
       "    </tr>\n",
       "  </tbody>\n",
       "</table>\n",
       "</div>"
      ],
      "text/plain": [
       "                                          file_category  \\\n",
       "24                               Archive and compressed   \n",
       "51                               Archive and compressed   \n",
       "61                               Archive and compressed   \n",
       "63                               Archive and compressed   \n",
       "274                                     Test technology   \n",
       "369                                            Document   \n",
       "426                                            Document   \n",
       "474                       Geographic information system   \n",
       "582                                     Vector graphics   \n",
       "583                                     Vector graphics   \n",
       "585                                     Vector graphics   \n",
       "588                                     Vector graphics   \n",
       "687                                 Links and shortcuts   \n",
       "716   Object code, executable files, shared and dyna...   \n",
       "745                           Page description language   \n",
       "746                           Page description language   \n",
       "747                           Page description language   \n",
       "749                           Page description language   \n",
       "810                                           Chemistry   \n",
       "811                                           Chemistry   \n",
       "812                                           Chemistry   \n",
       "817                                             Biology   \n",
       "834                                             Biology   \n",
       "847                                  Biomedical imaging   \n",
       "858                                  Biomedical imaging   \n",
       "891                   Programming languages and scripts   \n",
       "892                   Programming languages and scripts   \n",
       "920                   Programming languages and scripts   \n",
       "1020                                        Lossy audio   \n",
       "1021                                        Lossy audio   \n",
       "1266                                              Video   \n",
       "1280                                              Video   \n",
       "1298                          Video editing, production   \n",
       "1307                          Video editing, production   \n",
       "1355                                    Video game data   \n",
       "1405                                    Video game data   \n",
       "\n",
       "                                              file_info  \\\n",
       "24                                       bzip2 (.bz2) –   \n",
       "51                          HTML (.html) HTML code file   \n",
       "61                                                  lzo   \n",
       "63                                                  LZX   \n",
       "274                           Standard Test Data Format   \n",
       "369                                          Amigaguide   \n",
       "426                                               Troff   \n",
       "474   GeoJSON –Geographically located data in object...   \n",
       "582                                           MOVIE.BYU   \n",
       "583                                           RenderMan   \n",
       "585   Scene description languages (3D vector image f...   \n",
       "588                                                 X3D   \n",
       "687                                      Alias (Mac OS)   \n",
       "716                               expander (see bundle)   \n",
       "745                                                 PLD   \n",
       "746                                                 PCL   \n",
       "747                            PostScript (.ps, .ps.gz)   \n",
       "749                                                 XPS   \n",
       "810        Chemical table file (CTab) (.mol, .sd, .sdf)   \n",
       "811   Joint Committee on Atomic and Molecular Physic...   \n",
       "812   Simplified molecular input line entry specific...   \n",
       "817   ASN.1– Abstract Syntax Notation One, is an Int...   \n",
       "834             NeXML–XML format for phylogenetic trees   \n",
       "847   Digital Imaging and Communications in Medicine...   \n",
       "858   Medical Imaging NetCDF (MINC) format, previous...   \n",
       "891                                    BTM — Batch file   \n",
       "892                        CLASS — Compiled Java binary   \n",
       "920             O — Compiled and optimized C/C++ binary   \n",
       "1020                                                MP3   \n",
       "1021                                       MPEG Layer 3   \n",
       "1266                                                DSH   \n",
       "1280                           MPEG (.mpeg, .mpg, .mpe)   \n",
       "1298  PPJ & PRPROJ– Adobe Premiere Pro video editing...   \n",
       "1307            WFP / WVE — Wondershare Filmora Project   \n",
       "1355  sometimes used for general data contained with...   \n",
       "1405                        HE0, HE2, HE4 HE games File   \n",
       "\n",
       "                                               wikilink file_ext  \n",
       "24                 https://en.wikipedia.org//wiki/Bzip2     None  \n",
       "51                                                 None     None  \n",
       "61                   https://en.wikipedia.org//wiki/Lzo     None  \n",
       "63                   https://en.wikipedia.org//wiki/LZX     None  \n",
       "274   https://en.wikipedia.org//wiki/Standard_Test_D...     None  \n",
       "369           https://en.wikipedia.org//wiki/Amigaguide     None  \n",
       "426                https://en.wikipedia.org//wiki/Troff     None  \n",
       "474              https://en.wikipedia.org//wiki/GeoJSON     None  \n",
       "582                                                None     None  \n",
       "583   https://en.wikipedia.org//wiki/RenderMan_Inter...     None  \n",
       "585   https://en.wikipedia.org//wiki/Scene_descripti...     None  \n",
       "588                  https://en.wikipedia.org//wiki/X3D     None  \n",
       "687                                                None     None  \n",
       "716                                                None     None  \n",
       "745                                                None     None  \n",
       "746   https://en.wikipedia.org//wiki/Printer_Control...     None  \n",
       "747                                                None     None  \n",
       "749   https://en.wikipedia.org//wiki/XML_Paper_Speci...     None  \n",
       "810   https://en.wikipedia.org//wiki/Chemical_table_...     None  \n",
       "811   https://en.wikipedia.org//wiki/Joint_Committee...     None  \n",
       "812   https://en.wikipedia.org//wiki/Simplified_mole...     None  \n",
       "817   https://en.wikipedia.org//wiki/International_O...     None  \n",
       "834                                                None     None  \n",
       "847   https://en.wikipedia.org//wiki/Digital_Imaging...     None  \n",
       "858                                                None     None  \n",
       "891                                                None     None  \n",
       "892                                                None     None  \n",
       "920                                                None     None  \n",
       "1020                                               None     None  \n",
       "1021  https://en.wikipedia.org//wiki/Moving_Picture_...     None  \n",
       "1266                                               None     None  \n",
       "1280                https://en.wikipedia.org//wiki/MPEG     None  \n",
       "1298  https://en.wikipedia.org//wiki/Adobe_Premiere_Pro     None  \n",
       "1307                                               None     None  \n",
       "1355                                               None     None  \n",
       "1405                                               None     None  "
      ]
     },
     "execution_count": 81,
     "metadata": {},
     "output_type": "execute_result"
    }
   ],
   "source": [
    "df_ft_rm_nulls"
   ]
  },
  {
   "cell_type": "code",
   "execution_count": 79,
   "metadata": {},
   "outputs": [
    {
     "data": {
      "text/html": [
       "<div>\n",
       "<style scoped>\n",
       "    .dataframe tbody tr th:only-of-type {\n",
       "        vertical-align: middle;\n",
       "    }\n",
       "\n",
       "    .dataframe tbody tr th {\n",
       "        vertical-align: top;\n",
       "    }\n",
       "\n",
       "    .dataframe thead th {\n",
       "        text-align: right;\n",
       "    }\n",
       "</style>\n",
       "<table border=\"1\" class=\"dataframe\">\n",
       "  <thead>\n",
       "    <tr style=\"text-align: right;\">\n",
       "      <th></th>\n",
       "      <th>file_category</th>\n",
       "      <th>file_info</th>\n",
       "      <th>wikilink</th>\n",
       "      <th>file_ext</th>\n",
       "    </tr>\n",
       "  </thead>\n",
       "  <tbody>\n",
       "    <tr>\n",
       "      <th>810</th>\n",
       "      <td>Chemistry</td>\n",
       "      <td>Chemical table file (CTab) (.mol, .sd, .sdf)</td>\n",
       "      <td>https://en.wikipedia.org//wiki/Chemical_table_...</td>\n",
       "      <td>mol</td>\n",
       "    </tr>\n",
       "    <tr>\n",
       "      <th>810</th>\n",
       "      <td>Chemistry</td>\n",
       "      <td>Chemical table file (CTab) (.mol, .sd, .sdf)</td>\n",
       "      <td>https://en.wikipedia.org//wiki/Chemical_table_...</td>\n",
       "      <td>sd</td>\n",
       "    </tr>\n",
       "    <tr>\n",
       "      <th>810</th>\n",
       "      <td>Chemistry</td>\n",
       "      <td>Chemical table file (CTab) (.mol, .sd, .sdf)</td>\n",
       "      <td>https://en.wikipedia.org//wiki/Chemical_table_...</td>\n",
       "      <td>sdf</td>\n",
       "    </tr>\n",
       "  </tbody>\n",
       "</table>\n",
       "</div>"
      ],
      "text/plain": [
       "    file_category                                     file_info  \\\n",
       "810     Chemistry  Chemical table file (CTab) (.mol, .sd, .sdf)   \n",
       "810     Chemistry  Chemical table file (CTab) (.mol, .sd, .sdf)   \n",
       "810     Chemistry  Chemical table file (CTab) (.mol, .sd, .sdf)   \n",
       "\n",
       "                                              wikilink file_ext  \n",
       "810  https://en.wikipedia.org//wiki/Chemical_table_...      mol  \n",
       "810  https://en.wikipedia.org//wiki/Chemical_table_...       sd  \n",
       "810  https://en.wikipedia.org//wiki/Chemical_table_...      sdf  "
      ]
     },
     "execution_count": 79,
     "metadata": {},
     "output_type": "execute_result"
    }
   ],
   "source": [
    "apply_re_ft(cft)"
   ]
  },
  {
   "cell_type": "code",
   "execution_count": 37,
   "metadata": {},
   "outputs": [],
   "source": [
    "df_dcm = df_ft_rm[df_ft_rm.file_info == 'Digital Imaging and Communications in Medicine (DICOM) (.dcm)']"
   ]
  },
  {
   "cell_type": "code",
   "execution_count": 35,
   "metadata": {},
   "outputs": [
    {
     "data": {
      "text/plain": [
       "['expander', 'see', 'bundle']"
      ]
     },
     "execution_count": 35,
     "metadata": {},
     "output_type": "execute_result"
    }
   ],
   "source": [
    "re_filetypes('expander (see bundle)')"
   ]
  },
  {
   "cell_type": "code",
   "execution_count": null,
   "metadata": {},
   "outputs": [],
   "source": []
  },
  {
   "cell_type": "code",
   "execution_count": 185,
   "metadata": {},
   "outputs": [
    {
     "data": {
      "text/plain": [
       "['PCL']"
      ]
     },
     "execution_count": 185,
     "metadata": {},
     "output_type": "execute_result"
    }
   ],
   "source": [
    "re_filetype_nodot('PCL')"
   ]
  },
  {
   "cell_type": "code",
   "execution_count": 180,
   "metadata": {},
   "outputs": [],
   "source": [
    "def final_output():\n",
    "    return df_ft_rm"
   ]
  },
  {
   "cell_type": "code",
   "execution_count": null,
   "metadata": {},
   "outputs": [],
   "source": []
  }
 ],
 "metadata": {
  "interpreter": {
   "hash": "a4bd76f36fa07c92d423ad5d1d2cbe0ac2e2f53edb5b0446e053ad16aa699156"
  },
  "kernelspec": {
   "display_name": "Python 3.8.3 ('base')",
   "language": "python",
   "name": "python3"
  },
  "language_info": {
   "codemirror_mode": {
    "name": "ipython",
    "version": 3
   },
   "file_extension": ".py",
   "mimetype": "text/x-python",
   "name": "python",
   "nbconvert_exporter": "python",
   "pygments_lexer": "ipython3",
   "version": "3.9.7"
  },
  "orig_nbformat": 4
 },
 "nbformat": 4,
 "nbformat_minor": 2
}
